{
 "cells": [
  {
   "cell_type": "code",
   "execution_count": 12,
   "metadata": {},
   "outputs": [],
   "source": [
    "import pandas as pd"
   ]
  },
  {
   "cell_type": "code",
   "execution_count": 13,
   "metadata": {},
   "outputs": [],
   "source": [
    "df = pd.read_csv('./data/data.csv')\n"
   ]
  },
  {
   "cell_type": "code",
   "execution_count": 14,
   "metadata": {},
   "outputs": [
    {
     "data": {
      "text/plain": [
       "array(['1P28D', '_1P28D', '3P28D', '_3P28D', '_5P28D', '5P28D', '_10P28D',\n",
       "       '10P28D', '_15P28D', '15P28D'], dtype=object)"
      ]
     },
     "execution_count": 14,
     "metadata": {},
     "output_type": "execute_result"
    }
   ],
   "source": [
    "df.head()\n",
    "df['target_name'].unique()"
   ]
  },
  {
   "cell_type": "code",
   "execution_count": 15,
   "metadata": {},
   "outputs": [
    {
     "data": {
      "text/plain": [
       "array(['ZTS', 'ZTO', 'ZS', 'ZION', 'ZEN', 'ZBRA', 'ZBH', 'ZAYO', 'Z',\n",
       "       'YY', 'YUMC', 'YUM', 'YPF', 'YNDX', 'YELP', 'XRX', 'XRAY', 'XPO',\n",
       "       'XPER', 'XOM', 'XLNX', 'XENT', 'XEC', 'X', 'WYNN', 'WY', 'WWE',\n",
       "       'WU', 'WST', 'WSM', 'WRK', 'WPM', 'WMT', 'WMB', 'WM', 'WLL', 'WIX',\n",
       "       'WING', 'WHR', 'WFC', 'WELL', 'WDC', 'WDAY', 'WCG', 'WBC', 'WBA',\n",
       "       'WB', 'WAT', 'WAB', 'W', 'VZ', 'VTR', 'VSM', 'VRTX', 'VRSN',\n",
       "       'VRSK', 'VOD', 'VNOM', 'VNDA', 'VMW', 'VMC', 'VLO', 'VIAB', 'VFC',\n",
       "       'VEEV', 'VC', 'VAR', 'VALE', 'VAC', 'V', 'UTX', 'USCR', 'USB',\n",
       "       'URI', 'URBN', 'UPS', 'UNP', 'UNH', 'UN', 'ULTA', 'UL', 'UAL',\n",
       "       'UAA', 'UA', 'TXRH', 'TXN', 'TWTR', 'TWO', 'TWLO', 'TTWO', 'TTM',\n",
       "       'TTD', 'TSN', 'TSM', 'TSLA', 'TSEM', 'TSCO', 'TRV', 'TROX', 'TROW',\n",
       "       'TRIP', 'TRGP', 'TREX', 'TPX', 'TPR', 'TOT', 'TOL', 'TNDM', 'TMUS',\n",
       "       'TMO', 'TLRY', 'TKR', 'TJX', 'TIF', 'TGT', 'TEX', 'TEVA', 'TER',\n",
       "       'TEN', 'TECK', 'TECD', 'TEAM', 'TDG', 'TD', 'TAP', 'TAL', 'T',\n",
       "       'SYNA', 'SYK', 'SYF', 'SWKS', 'SWK', 'SUPN', 'SUN', 'SU', 'STZ',\n",
       "       'STX', 'STT', 'STMP', 'STLD', 'STI', 'STAA', 'SSNC', 'SRPT', 'SRG',\n",
       "       'SQM', 'SQ', 'SPR', 'SPOT', 'SPLK', 'SPGI', 'SPG', 'SO', 'SNY',\n",
       "       'SNX', 'SNV', 'SNPS', 'SNE', 'SNBR', 'SNAP', 'SNA', 'SMG', 'SLG',\n",
       "       'SLB', 'SLAB', 'SKX', 'SKT', 'SJM', 'SIX', 'SIVB', 'SINA', 'SIG',\n",
       "       'SHOP', 'SHLX', 'SHAK', 'SGMS', 'SGEN', 'SFIX', 'SEE', 'SEDG',\n",
       "       'SEAS', 'SCHW', 'SCCO', 'SBUX', 'SBNY', 'SBGI', 'SBAC', 'SAVE',\n",
       "       'SAP', 'SAM', 'RY', 'RUN', 'RTN', 'RS', 'RRC', 'ROST', 'ROP',\n",
       "       'ROKU', 'ROK', 'RNG', 'RMD', 'RL', 'RJF', 'RIO', 'RIG', 'RH',\n",
       "       'RGLD', 'RF', 'REGN', 'RDWR', 'RDFN', 'RCL', 'RCII', 'RACE',\n",
       "       'QRVO', 'QLYS', 'QCOM', 'PZZA', 'PYPL', 'PXD', 'PWR', 'PVTL',\n",
       "       'PVH', 'PTC', 'PSX', 'PSA', 'PRU', 'PRTA', 'PRGO', 'PRAH', 'PPL',\n",
       "       'PPG', 'PPC', 'POST', 'POOL', 'PODD', 'PNC', 'PM', 'PLNT', 'PLD',\n",
       "       'PLCE', 'PKI', 'PKG', 'PII', 'PHM', 'PH', 'PGR', 'PG', 'PFPT',\n",
       "       'PFE', 'PEP', 'PEN', 'PDCO', 'PCG', 'PCAR', 'PBR', 'PBCT', 'PAYX',\n",
       "       'PAYC', 'PANW', 'PAAS', 'PAA', 'OXY', 'OSTK', 'ORLY', 'ORCL',\n",
       "       'ONCE', 'ON', 'OMER', 'OMCL', 'OMC', 'OLN', 'OLED', 'OKTA', 'OKE',\n",
       "       'OHI', 'OC', 'O', 'NYT', 'NXST', 'NXPI', 'NWL', 'NVS', 'NVO',\n",
       "       'NVDA', 'NVCR', 'NUE', 'NUAN', 'NTR', 'NTNX', 'NTGR', 'NTES',\n",
       "       'NTAP', 'NSC', 'NRZ', 'NRG', 'NOW', 'NOV', 'NOC', 'NLSN', 'NKE',\n",
       "       'NFLX', 'NEWR', 'NEM', 'NEE', 'NDSN', 'NDAQ', 'NCR', 'NCLH', 'NAV',\n",
       "       'MYL', 'MU', 'MTZ', 'MTW', 'MTN', 'MTH', 'MTG', 'MTCH', 'MTB',\n",
       "       'MT', 'MSI', 'MSFT', 'MS', 'MRVL', 'MRO', 'MRK', 'MPWR', 'MPLX',\n",
       "       'MPC', 'MOV', 'MOS', 'MOMO', 'MOH', 'MO', 'MNST', 'MNRO', 'MNK',\n",
       "       'MMP', 'MMM', 'MMC', 'MLNX', 'MLM', 'MLCO', 'MKC', 'MIDD', 'MIC',\n",
       "       'MHK', 'MGM', 'MGA', 'MFC', 'MET', 'MELI', 'MED', 'MDT', 'MDLZ',\n",
       "       'MDB', 'MCK', 'MCHP', 'MCD', 'MBI', 'MAT', 'MASI', 'MAS', 'MAR',\n",
       "       'MAN', 'MAA', 'MA', 'M', 'LYV', 'LYB', 'LVS', 'LUV', 'LULU',\n",
       "       'LSTR', 'LRCX', 'LPX', 'LOW', 'LOPE', 'LOGM', 'LOGI', 'LNG', 'LNC',\n",
       "       'LMT', 'LLY', 'LL', 'LKQ', 'LIVN', 'LITE', 'LHCG', 'LH', 'LGND',\n",
       "       'LEN', 'LEA', 'LB', 'LAZ', 'LANC', 'LAD', 'KSU', 'KSS', 'KR', 'KO',\n",
       "       'KMX', 'KMI', 'KMB', 'KLAC', 'KKR', 'KHC', 'KEYS', 'KEY', 'KEM',\n",
       "       'KDP', 'KBR', 'KBH', 'K', 'JWN', 'JPM', 'JNPR', 'JNJ', 'JKS', 'JD',\n",
       "       'JCI', 'JBT', 'JBLU', 'JBL', 'JAZZ', 'JACK', 'IVZ', 'ITW', 'ITGR',\n",
       "       'IT', 'ISRG', 'IRTC', 'IRM', 'IRDM', 'IRBT', 'IR', 'IQV', 'IQ',\n",
       "       'IPGP', 'IPG', 'IP', 'INTU', 'INTC', 'INSP', 'INSM', 'INGN',\n",
       "       'INCY', 'IMMU', 'IMAX', 'ILMN', 'IGT', 'IFF', 'IEP', 'IDCC',\n",
       "       'ICPT', 'ICE', 'IBM', 'IAC', 'I', 'HZNP', 'HXL', 'HUYA', 'HUN',\n",
       "       'HUBS', 'HTZ', 'HSY', 'HST', 'HSIC', 'HSBC', 'HRL', 'HRC', 'HRB',\n",
       "       'HQY', 'HPQ', 'HPE', 'HP', 'HON', 'HOLX', 'HOG', 'HLT', 'HLF',\n",
       "       'HIIQ', 'HIG', 'HGV', 'HFC', 'HES', 'HDS', 'HDB', 'HD', 'HCA',\n",
       "       'HBI', 'HBAN', 'HAS', 'HALO', 'HAL', 'HA', 'GWW', 'GWRE', 'GWPH',\n",
       "       'GTLS', 'GT', 'GSK', 'GS', 'GRUB', 'GRMN', 'GRA', 'GPS', 'GPRO',\n",
       "       'GPRE', 'GPOR', 'GPN', 'GOOS', 'GOOGL', 'GOOG', 'GOLD', 'GNRC',\n",
       "       'GMED', 'GME', 'GM', 'GLW', 'GKOS', 'GIS', 'GILD', 'GHDX', 'GES',\n",
       "       'GE', 'GDDY', 'GD', 'FTV', 'FTNT', 'FTI', 'FSLR', 'FRC', 'FOSL',\n",
       "       'FOLD', 'FNV', 'FND', 'FLT', 'FLR', 'FL', 'FIVE', 'FITB', 'FISV',\n",
       "       'FIS', 'FFIV', 'FEYE', 'FE', 'FDX', 'FDS', 'FCX', 'FCN', 'FCAU',\n",
       "       'FBP', 'FBHS', 'FB', 'FAST', 'FANG', 'F', 'EXR', 'EXPE', 'EXEL',\n",
       "       'EXC', 'EXAS', 'EW', 'ETR', 'ETN', 'ETFC', 'ET', 'ESS', 'EQT',\n",
       "       'EQR', 'EQIX', 'EPD', 'EOG', 'ENDP', 'EMR', 'EMN', 'ELY', 'ELAN',\n",
       "       'EL', 'EIX', 'EFX', 'EEFT', 'EDU', 'ED', 'ECL', 'EBAY', 'EA',\n",
       "       'DXCM', 'DXC', 'DVN', 'DUK', 'DTE', 'DRI', 'DPZ', 'DOX', 'DOCU',\n",
       "       'DNKN', 'DLTR', 'DLR', 'DKS', 'DISH', 'DIS', 'DIN', 'DHR', 'DHI',\n",
       "       'DGX', 'DG', 'DFS', 'DEO', 'DELL', 'DECK', 'DE', 'DDD', 'DBX',\n",
       "       'DAN', 'DAL', 'D', 'CZR', 'CYBR', 'CY', 'CXW', 'CXO', 'CVX', 'CVS',\n",
       "       'CVNA', 'CUB', 'CTXS', 'CTSH', 'CTL', 'CTAS', 'CSX', 'CSIQ',\n",
       "       'CSCO', 'CRUS', 'CRSP', 'CROX', 'CRON', 'CRM', 'CRL', 'CRI',\n",
       "       'CREE', 'CRC', 'CQP', 'CPB', 'CP', 'COUP', 'COTY', 'COST', 'CORT',\n",
       "       'COP', 'CONN', 'COG', 'COF', 'CNQ', 'CNC', 'CMP', 'CMI', 'CMG',\n",
       "       'CME', 'CMCSA', 'CMA', 'CM', 'CLX', 'CLVS', 'CLR', 'CLF', 'CLB',\n",
       "       'CL', 'CIT', 'CIM', 'CIEN', 'CI', 'CHTR', 'CHRW', 'CHL', 'CHKP',\n",
       "       'CHD', 'CGC', 'CF', 'CERN', 'CEO', 'CELG', 'CE', 'CDW', 'CCL',\n",
       "       'CCK', 'CCJ', 'CCI', 'CBRL', 'CBPO', 'CBOE', 'CB', 'CAT', 'CASY',\n",
       "       'CAR', 'CAH', 'CAG', 'C', 'BYD', 'BX', 'BWA', 'BVN', 'BURL', 'BUD',\n",
       "       'BSX', 'BR', 'BPL', 'BP', 'BOX', 'BMY', 'BMO', 'BLUE', 'BLL',\n",
       "       'BLK', 'BKNG', 'BKE', 'BK', 'BIIB', 'BIDU', 'BID', 'BHP', 'BHC',\n",
       "       'BG', 'BERY', 'BEAT', 'BDX', 'BBY', 'BBD', 'BBBY', 'BB', 'BAX',\n",
       "       'BAC', 'BABA', 'BA', 'AZN', 'AYX', 'AYI', 'AXTA', 'AXP', 'AWK',\n",
       "       'AVY', 'AVGO', 'AVB', 'AVAV', 'ATVI', 'ATUS', 'ATHM', 'ASND',\n",
       "       'ASML', 'ARWR', 'ARW', 'ARNC', 'ARE', 'ARCC', 'APTV', 'APO', 'APD',\n",
       "       'APA', 'AON', 'AOBC', 'ANTM', 'ANSS', 'ANF', 'ANET', 'AN', 'AMZN',\n",
       "       'AMTD', 'AMT', 'AMRN', 'AMP', 'AMGN', 'AMG', 'AMED', 'AMD', 'AMC',\n",
       "       'AMBA', 'AMAT', 'ALXN', 'ALRM', 'ALNY', 'ALLY', 'ALLE', 'ALL',\n",
       "       'ALK', 'ALGN', 'ALB', 'AKAM', 'AIMC', 'AIG', 'AGO', 'AGNC', 'AGN',\n",
       "       'AGCO', 'AFL', 'AES', 'AER', 'AEP', 'AEO', 'AEM', 'ADSK', 'ADS',\n",
       "       'ADP', 'ADM', 'ADI', 'ADBE', 'ACN', 'ACB', 'ACAD', 'ABT', 'ABMD',\n",
       "       'ABBV', 'ABB', 'AAPL', 'AAP', 'AAOI', 'AAL', 'AA', 'A', 'LIN',\n",
       "       'APHA'], dtype=object)"
      ]
     },
     "execution_count": 15,
     "metadata": {},
     "output_type": "execute_result"
    }
   ],
   "source": [
    "df['ticker'].unique()"
   ]
  },
  {
   "cell_type": "code",
   "execution_count": 5,
   "metadata": {},
   "outputs": [],
   "source": [
    "ALL_DATES = []\n",
    "for date in (df['eval_date'].unique()):\n",
    "    ALL_DATES.append(date)"
   ]
  },
  {
   "cell_type": "code",
   "execution_count": 6,
   "metadata": {},
   "outputs": [],
   "source": [
    "CURRENT_MODELS = []\n",
    "MODEL_DICT          = {} \n",
    "temp = df['modelid'].unique()\n",
    "\n",
    "for i,num in enumerate (temp):\n",
    "    MODEL_DICT [i+1]=num\n",
    "    CURRENT_MODELS.append(num)"
   ]
  },
  {
   "cell_type": "code",
   "execution_count": 7,
   "metadata": {},
   "outputs": [
    {
     "data": {
      "text/plain": [
       "dict_values([3376, 4445, 2901, 3755, 4658])"
      ]
     },
     "execution_count": 7,
     "metadata": {},
     "output_type": "execute_result"
    }
   ],
   "source": [
    "MODEL_DICT.values()"
   ]
  },
  {
   "cell_type": "code",
   "execution_count": 8,
   "metadata": {},
   "outputs": [
    {
     "data": {
      "text/plain": [
       "True"
      ]
     },
     "execution_count": 8,
     "metadata": {},
     "output_type": "execute_result"
    }
   ],
   "source": [
    "df[(df['modelid'] == 4658) & (df['eval_date'] == \"10/17/2018\" )].empty"
   ]
  },
  {
   "cell_type": "code",
   "execution_count": 13,
   "metadata": {},
   "outputs": [
    {
     "name": "stdout",
     "output_type": "stream",
     "text": [
      "1.16.2\n",
      "0.24.2\n"
     ]
    }
   ],
   "source": [
    "import numpy\n",
    "import pandas as pd\n",
    "\n",
    "print(numpy.version.version)\n",
    "print(pd.__version__)"
   ]
  },
  {
   "cell_type": "code",
   "execution_count": 9,
   "metadata": {},
   "outputs": [
    {
     "name": "stdout",
     "output_type": "stream",
     "text": [
      "11.3101\n",
      "3.695\n",
      "0.6019553242148092\n"
     ]
    }
   ],
   "source": [
    "CURRENT_EVAL_DATE = \"2018-10-01\"\n",
    "model = 3376 \n",
    "print (float(df[(df['modelid'] == int(model)) & (df['eval_date'] == CURRENT_EVAL_DATE )][\"percent_change\"].astype(float)))\n",
    "print (float(df[(df['modelid'] == int(model)) & (df['eval_date'] == CURRENT_EVAL_DATE )][\"USD_change\"].astype(float)))\n",
    "print (float(df[(df['modelid'] == int(model)) & (df['eval_date'] == CURRENT_EVAL_DATE )][\"probability\"].astype(float)))"
   ]
  },
  {
   "cell_type": "code",
   "execution_count": 10,
   "metadata": {},
   "outputs": [
    {
     "name": "stdout",
     "output_type": "stream",
     "text": [
      "3376 2018-10-01\n",
      "4445 2018-10-01\n",
      "2901 2018-10-01\n",
      "3755 2018-10-01\n",
      "4658 2018-10-01\n",
      "[[3.37600000e+03 1.13101000e+01 3.69500000e+00 6.01955324e-01]\n",
      " [4.44500000e+03 1.13101000e+01 3.69500000e+00 6.56238632e-01]\n",
      " [2.90100000e+03 1.13101000e+01 3.69500000e+00 8.18825548e-01]\n",
      " [3.75500000e+03 1.13101000e+01 3.69500000e+00 6.43870069e-01]\n",
      " [4.65800000e+03 1.13101000e+01 3.69500000e+00 6.82998401e-01]]\n"
     ]
    }
   ],
   "source": [
    "import numpy as np\n",
    "frame = np.empty(shape=[0, 4])\n",
    "\n",
    "for model in MODEL_DICT.values():\n",
    "    print (model, CURRENT_EVAL_DATE)\n",
    "    if df[(df['modelid'] == int(model)) & (df['eval_date'] == CURRENT_EVAL_DATE )].empty:\n",
    "            print (\"Data frame empty for model:\", model, \"eval_data\", CURRENT_EVAL_DATE)\n",
    "    else:\n",
    "        frame = np.append(frame, [[\n",
    "            model,\n",
    "            float(df[(df['modelid'] == int(model)) & (df['eval_date'] == CURRENT_EVAL_DATE )][\"percent_change\"].astype(float)),\n",
    "            float(df[(df['modelid'] == int(model)) & (df['eval_date'] == CURRENT_EVAL_DATE )][\"USD_change\"].astype(float)),\n",
    "            float(df[(df['modelid'] == int(model)) & (df['eval_date'] == CURRENT_EVAL_DATE )][\"probability\"].astype(float))\n",
    "\n",
    "        ]], axis=0)\n",
    "print (frame)"
   ]
  },
  {
   "cell_type": "code",
   "execution_count": 157,
   "metadata": {},
   "outputs": [
    {
     "data": {
      "text/html": [
       "<div>\n",
       "<style scoped>\n",
       "    .dataframe tbody tr th:only-of-type {\n",
       "        vertical-align: middle;\n",
       "    }\n",
       "\n",
       "    .dataframe tbody tr th {\n",
       "        vertical-align: top;\n",
       "    }\n",
       "\n",
       "    .dataframe thead th {\n",
       "        text-align: right;\n",
       "    }\n",
       "</style>\n",
       "<table border=\"1\" class=\"dataframe\">\n",
       "  <thead>\n",
       "    <tr style=\"text-align: right;\">\n",
       "      <th></th>\n",
       "      <th>modelid</th>\n",
       "      <th>ticker</th>\n",
       "      <th>eval_date</th>\n",
       "      <th>probability</th>\n",
       "      <th>index</th>\n",
       "      <th>targetid</th>\n",
       "      <th>target_val</th>\n",
       "      <th>target_name</th>\n",
       "      <th>percent_change</th>\n",
       "      <th>USD_change</th>\n",
       "      <th>rating</th>\n",
       "    </tr>\n",
       "  </thead>\n",
       "  <tbody>\n",
       "    <tr>\n",
       "      <th>296171</th>\n",
       "      <td>3755</td>\n",
       "      <td>FAST</td>\n",
       "      <td>10/17/2018</td>\n",
       "      <td>0.64387</td>\n",
       "      <td>666770</td>\n",
       "      <td>NaN</td>\n",
       "      <td>1</td>\n",
       "      <td>1P28D</td>\n",
       "      <td>26.0741</td>\n",
       "      <td>9.285</td>\n",
       "      <td>0.64387</td>\n",
       "    </tr>\n",
       "  </tbody>\n",
       "</table>\n",
       "</div>"
      ],
      "text/plain": [
       "        modelid ticker   eval_date  probability   index  targetid  target_val  \\\n",
       "296171     3755   FAST  10/17/2018      0.64387  666770       NaN           1   \n",
       "\n",
       "       target_name  percent_change  USD_change   rating  \n",
       "296171       1P28D         26.0741       9.285  0.64387  "
      ]
     },
     "execution_count": 157,
     "metadata": {},
     "output_type": "execute_result"
    }
   ],
   "source": [
    "df[(df['modelid'] == 3755) & (df['eval_date'] == CURRENT_DATE )]"
   ]
  },
  {
   "cell_type": "code",
   "execution_count": 83,
   "metadata": {},
   "outputs": [
    {
     "data": {
      "text/plain": [
       "286360    0.64387\n",
       "Name: probability, dtype: float64"
      ]
     },
     "execution_count": 83,
     "metadata": {},
     "output_type": "execute_result"
    }
   ],
   "source": [
    "current_step=0\n",
    "\n",
    "(df[(df['modelid'] == 3755) & (df['eval_date'] == CURRENT_DATE )][\"probability\"])\n"
   ]
  },
  {
   "cell_type": "code",
   "execution_count": 71,
   "metadata": {},
   "outputs": [
    {
     "name": "stdout",
     "output_type": "stream",
     "text": [
      "1019882.937893418\n"
     ]
    }
   ],
   "source": [
    "import math\n",
    "\n",
    "TARGET_NAME         = \"1P28D\"\n",
    "CURRENT_REWARD      = 0\n",
    "MAX_REWARD          = 2147483647\n",
    "\n",
    "current_probability = float(df[(df['modelid'] == 3755) & (df['eval_date'] == CURRENT_DATE )][\"probability\"])\n",
    "current_target_val  = int  (df[(df['modelid'] == 3755) & (df['eval_date'] == CURRENT_DATE )][\"target_val\"])\n",
    "\n",
    "if \"_\" in TARGET_NAME:\n",
    "    if current_target_val == 0:\n",
    "        CURRENT_REWARD += math.pow(MAX_REWARD, current_probability)\n",
    "    else:\n",
    "        CURRENT_REWARD -= math.pow(MAX_REWARD, current_probability)\n",
    "else:\n",
    "    if current_target_val == 1:\n",
    "        CURRENT_REWARD += math.pow(MAX_REWARD, current_probability)\n",
    "    else:\n",
    "        CURRENT_REWARD -= math.pow(MAX_REWARD, current_probability)\n",
    "    \n",
    "\n",
    "print(CURRENT_REWARD)"
   ]
  },
  {
   "cell_type": "code",
   "execution_count": null,
   "metadata": {},
   "outputs": [],
   "source": []
  },
  {
   "cell_type": "code",
   "execution_count": 15,
   "metadata": {},
   "outputs": [
    {
     "data": {
      "text/plain": [
       "4658"
      ]
     },
     "execution_count": 15,
     "metadata": {},
     "output_type": "execute_result"
    }
   ],
   "source": [
    "MODEL_DICT[2]"
   ]
  },
  {
   "cell_type": "code",
   "execution_count": 87,
   "metadata": {},
   "outputs": [],
   "source": []
  },
  {
   "cell_type": "code",
   "execution_count": 88,
   "metadata": {},
   "outputs": [
    {
     "data": {
      "text/plain": [
       "[3755, 4658, 4445, 3376, 2901]"
      ]
     },
     "execution_count": 88,
     "metadata": {},
     "output_type": "execute_result"
    }
   ],
   "source": [
    "CURRENT_MODELS"
   ]
  },
  {
   "cell_type": "code",
   "execution_count": 95,
   "metadata": {},
   "outputs": [
    {
     "name": "stdout",
     "output_type": "stream",
     "text": [
      "3755\n",
      "4658\n",
      "4445\n",
      "3376\n",
      "2901\n"
     ]
    }
   ],
   "source": [
    "for model in MODEL_DICT.values():\n",
    "    print (model)"
   ]
  },
  {
   "cell_type": "code",
   "execution_count": 45,
   "metadata": {},
   "outputs": [],
   "source": [
    "CURRENT_MODELS\n",
    "selected_model = 5"
   ]
  },
  {
   "cell_type": "code",
   "execution_count": 46,
   "metadata": {},
   "outputs": [],
   "source": [
    "if (MODEL_DICT[selected_model] in CURRENT_MODELS):  \n",
    "    CURRENT_MODELS.remove(MODEL_DICT[selected_model])"
   ]
  },
  {
   "cell_type": "code",
   "execution_count": 47,
   "metadata": {},
   "outputs": [
    {
     "data": {
      "text/plain": [
       "[4658, 3376]"
      ]
     },
     "execution_count": 47,
     "metadata": {},
     "output_type": "execute_result"
    }
   ],
   "source": [
    "CURRENT_MODELS"
   ]
  },
  {
   "cell_type": "code",
   "execution_count": null,
   "metadata": {},
   "outputs": [],
   "source": []
  }
 ],
 "metadata": {
  "kernelspec": {
   "display_name": "Python 3",
   "language": "python",
   "name": "python3"
  },
  "language_info": {
   "codemirror_mode": {
    "name": "ipython",
    "version": 3
   },
   "file_extension": ".py",
   "mimetype": "text/x-python",
   "name": "python",
   "nbconvert_exporter": "python",
   "pygments_lexer": "ipython3",
   "version": "3.7.3"
  }
 },
 "nbformat": 4,
 "nbformat_minor": 2
}
