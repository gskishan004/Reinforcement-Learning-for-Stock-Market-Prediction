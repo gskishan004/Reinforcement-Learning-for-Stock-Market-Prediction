{
 "cells": [
  {
   "cell_type": "code",
   "execution_count": 48,
   "metadata": {},
   "outputs": [],
   "source": [
    "import pandas as pd"
   ]
  },
  {
   "cell_type": "code",
   "execution_count": 49,
   "metadata": {},
   "outputs": [],
   "source": [
    "df = pd.read_csv('./data/data.csv')\n",
    "df = df.sort_values('eval_date')"
   ]
  },
  {
   "cell_type": "code",
   "execution_count": 50,
   "metadata": {},
   "outputs": [
    {
     "data": {
      "text/html": [
       "<div>\n",
       "<style scoped>\n",
       "    .dataframe tbody tr th:only-of-type {\n",
       "        vertical-align: middle;\n",
       "    }\n",
       "\n",
       "    .dataframe tbody tr th {\n",
       "        vertical-align: top;\n",
       "    }\n",
       "\n",
       "    .dataframe thead th {\n",
       "        text-align: right;\n",
       "    }\n",
       "</style>\n",
       "<table border=\"1\" class=\"dataframe\">\n",
       "  <thead>\n",
       "    <tr style=\"text-align: right;\">\n",
       "      <th></th>\n",
       "      <th>modelid</th>\n",
       "      <th>ticker</th>\n",
       "      <th>eval_date</th>\n",
       "      <th>probability</th>\n",
       "      <th>index</th>\n",
       "      <th>targetid</th>\n",
       "      <th>target_val</th>\n",
       "      <th>target_name</th>\n",
       "      <th>percent_change</th>\n",
       "      <th>USD_change</th>\n",
       "      <th>rating</th>\n",
       "    </tr>\n",
       "  </thead>\n",
       "  <tbody>\n",
       "    <tr>\n",
       "      <th>0</th>\n",
       "      <td>4184</td>\n",
       "      <td>TJX</td>\n",
       "      <td>10/1/2018</td>\n",
       "      <td>0.000000</td>\n",
       "      <td>19174</td>\n",
       "      <td>NaN</td>\n",
       "      <td>1</td>\n",
       "      <td>5P28D</td>\n",
       "      <td>-0.672766</td>\n",
       "      <td>-0.375</td>\n",
       "      <td>0.000000</td>\n",
       "    </tr>\n",
       "    <tr>\n",
       "      <th>596207</th>\n",
       "      <td>2598</td>\n",
       "      <td>UA</td>\n",
       "      <td>10/1/2018</td>\n",
       "      <td>0.901235</td>\n",
       "      <td>240075</td>\n",
       "      <td>NaN</td>\n",
       "      <td>1</td>\n",
       "      <td>_5P28D</td>\n",
       "      <td>-6.674020</td>\n",
       "      <td>-1.210</td>\n",
       "      <td>0.901235</td>\n",
       "    </tr>\n",
       "    <tr>\n",
       "      <th>596204</th>\n",
       "      <td>2923</td>\n",
       "      <td>SEE</td>\n",
       "      <td>10/1/2018</td>\n",
       "      <td>0.901233</td>\n",
       "      <td>728699</td>\n",
       "      <td>NaN</td>\n",
       "      <td>0</td>\n",
       "      <td>_5P28D</td>\n",
       "      <td>3.517220</td>\n",
       "      <td>1.460</td>\n",
       "      <td>-0.901233</td>\n",
       "    </tr>\n",
       "    <tr>\n",
       "      <th>596139</th>\n",
       "      <td>2129</td>\n",
       "      <td>LIVN</td>\n",
       "      <td>10/1/2018</td>\n",
       "      <td>0.901173</td>\n",
       "      <td>229236</td>\n",
       "      <td>NaN</td>\n",
       "      <td>0</td>\n",
       "      <td>3P28D</td>\n",
       "      <td>-67.637900</td>\n",
       "      <td>-49.910</td>\n",
       "      <td>-0.901173</td>\n",
       "    </tr>\n",
       "    <tr>\n",
       "      <th>596110</th>\n",
       "      <td>899</td>\n",
       "      <td>OKTA</td>\n",
       "      <td>10/1/2018</td>\n",
       "      <td>0.901151</td>\n",
       "      <td>729206</td>\n",
       "      <td>NaN</td>\n",
       "      <td>0</td>\n",
       "      <td>_1P28D</td>\n",
       "      <td>27.056700</td>\n",
       "      <td>26.640</td>\n",
       "      <td>-0.901151</td>\n",
       "    </tr>\n",
       "  </tbody>\n",
       "</table>\n",
       "</div>"
      ],
      "text/plain": [
       "        modelid ticker  eval_date  probability   index  targetid  target_val  \\\n",
       "0          4184    TJX  10/1/2018     0.000000   19174       NaN           1   \n",
       "596207     2598     UA  10/1/2018     0.901235  240075       NaN           1   \n",
       "596204     2923    SEE  10/1/2018     0.901233  728699       NaN           0   \n",
       "596139     2129   LIVN  10/1/2018     0.901173  229236       NaN           0   \n",
       "596110      899   OKTA  10/1/2018     0.901151  729206       NaN           0   \n",
       "\n",
       "       target_name  percent_change  USD_change    rating  \n",
       "0            5P28D       -0.672766      -0.375  0.000000  \n",
       "596207      _5P28D       -6.674020      -1.210  0.901235  \n",
       "596204      _5P28D        3.517220       1.460 -0.901233  \n",
       "596139       3P28D      -67.637900     -49.910 -0.901173  \n",
       "596110      _1P28D       27.056700      26.640 -0.901151  "
      ]
     },
     "execution_count": 50,
     "metadata": {},
     "output_type": "execute_result"
    }
   ],
   "source": [
    "df.head()"
   ]
  },
  {
   "cell_type": "code",
   "execution_count": 51,
   "metadata": {},
   "outputs": [
    {
     "data": {
      "text/plain": [
       "5"
      ]
     },
     "execution_count": 51,
     "metadata": {},
     "output_type": "execute_result"
    }
   ],
   "source": [
    "df = df[(df['ticker'] == 'FAST') & (df['target_name'] == \"1P28D\" )]\n",
    "len(df['modelid'].unique())"
   ]
  },
  {
   "cell_type": "code",
   "execution_count": 55,
   "metadata": {},
   "outputs": [],
   "source": [
    "ALL_DATES = []\n",
    "for date in (df['eval_date'].unique()):\n",
    "    ALL_DATES.append(date)"
   ]
  },
  {
   "cell_type": "code",
   "execution_count": 58,
   "metadata": {},
   "outputs": [
    {
     "data": {
      "text/plain": [
       "['10/10/2018',\n",
       " '10/11/2018',\n",
       " '10/12/2018',\n",
       " '10/15/2018',\n",
       " '10/16/2018',\n",
       " '10/17/2018',\n",
       " '10/18/2018',\n",
       " '10/19/2018',\n",
       " '10/2/2018',\n",
       " '10/22/2018',\n",
       " '10/23/2018',\n",
       " '10/24/2018',\n",
       " '10/25/2018',\n",
       " '10/26/2018',\n",
       " '10/29/2018',\n",
       " '10/3/2018',\n",
       " '10/30/2018',\n",
       " '10/31/2018',\n",
       " '10/4/2018',\n",
       " '10/5/2018',\n",
       " '10/8/2018',\n",
       " '10/9/2018',\n",
       " '11/1/2018',\n",
       " '11/2/2018',\n",
       " '11/5/2018',\n",
       " '11/6/2018',\n",
       " '11/7/2018',\n",
       " '11/8/2018']"
      ]
     },
     "execution_count": 58,
     "metadata": {},
     "output_type": "execute_result"
    }
   ],
   "source": [
    "ALL_DATES"
   ]
  },
  {
   "cell_type": "code",
   "execution_count": 59,
   "metadata": {},
   "outputs": [
    {
     "data": {
      "text/plain": [
       "'10/10/2018'"
      ]
     },
     "execution_count": 59,
     "metadata": {},
     "output_type": "execute_result"
    }
   ],
   "source": [
    "ALL_DATES.pop(0)"
   ]
  },
  {
   "cell_type": "code",
   "execution_count": 60,
   "metadata": {},
   "outputs": [
    {
     "data": {
      "text/plain": [
       "['10/11/2018',\n",
       " '10/12/2018',\n",
       " '10/15/2018',\n",
       " '10/16/2018',\n",
       " '10/17/2018',\n",
       " '10/18/2018',\n",
       " '10/19/2018',\n",
       " '10/2/2018',\n",
       " '10/22/2018',\n",
       " '10/23/2018',\n",
       " '10/24/2018',\n",
       " '10/25/2018',\n",
       " '10/26/2018',\n",
       " '10/29/2018',\n",
       " '10/3/2018',\n",
       " '10/30/2018',\n",
       " '10/31/2018',\n",
       " '10/4/2018',\n",
       " '10/5/2018',\n",
       " '10/8/2018',\n",
       " '10/9/2018',\n",
       " '11/1/2018',\n",
       " '11/2/2018',\n",
       " '11/5/2018',\n",
       " '11/6/2018',\n",
       " '11/7/2018',\n",
       " '11/8/2018']"
      ]
     },
     "execution_count": 60,
     "metadata": {},
     "output_type": "execute_result"
    }
   ],
   "source": [
    "ALL_DATES"
   ]
  },
  {
   "cell_type": "code",
   "execution_count": 61,
   "metadata": {},
   "outputs": [],
   "source": [
    "CURRENT_DATE = ALL_DATES.pop(0)"
   ]
  },
  {
   "cell_type": "code",
   "execution_count": 65,
   "metadata": {},
   "outputs": [
    {
     "data": {
      "text/html": [
       "<div>\n",
       "<style scoped>\n",
       "    .dataframe tbody tr th:only-of-type {\n",
       "        vertical-align: middle;\n",
       "    }\n",
       "\n",
       "    .dataframe tbody tr th {\n",
       "        vertical-align: top;\n",
       "    }\n",
       "\n",
       "    .dataframe thead th {\n",
       "        text-align: right;\n",
       "    }\n",
       "</style>\n",
       "<table border=\"1\" class=\"dataframe\">\n",
       "  <thead>\n",
       "    <tr style=\"text-align: right;\">\n",
       "      <th></th>\n",
       "      <th>modelid</th>\n",
       "      <th>ticker</th>\n",
       "      <th>eval_date</th>\n",
       "      <th>probability</th>\n",
       "      <th>index</th>\n",
       "      <th>targetid</th>\n",
       "      <th>target_val</th>\n",
       "      <th>target_name</th>\n",
       "      <th>percent_change</th>\n",
       "      <th>USD_change</th>\n",
       "      <th>rating</th>\n",
       "    </tr>\n",
       "  </thead>\n",
       "  <tbody>\n",
       "    <tr>\n",
       "      <th>292903</th>\n",
       "      <td>3755</td>\n",
       "      <td>FAST</td>\n",
       "      <td>10/11/2018</td>\n",
       "      <td>0.64387</td>\n",
       "      <td>642378</td>\n",
       "      <td>NaN</td>\n",
       "      <td>1</td>\n",
       "      <td>1P28D</td>\n",
       "      <td>17.392</td>\n",
       "      <td>5.395</td>\n",
       "      <td>0.64387</td>\n",
       "    </tr>\n",
       "  </tbody>\n",
       "</table>\n",
       "</div>"
      ],
      "text/plain": [
       "        modelid ticker   eval_date  probability   index  targetid  target_val  \\\n",
       "292903     3755   FAST  10/11/2018      0.64387  642378       NaN           1   \n",
       "\n",
       "       target_name  percent_change  USD_change   rating  \n",
       "292903       1P28D          17.392       5.395  0.64387  "
      ]
     },
     "execution_count": 65,
     "metadata": {},
     "output_type": "execute_result"
    }
   ],
   "source": [
    "df[(df['modelid'] == 3755) & (df['eval_date'] == CURRENT_DATE )]"
   ]
  },
  {
   "cell_type": "code",
   "execution_count": 71,
   "metadata": {},
   "outputs": [
    {
     "name": "stdout",
     "output_type": "stream",
     "text": [
      "1019882.937893418\n"
     ]
    }
   ],
   "source": [
    "import math\n",
    "\n",
    "TARGET_NAME         = \"1P28D\"\n",
    "CURRENT_REWARD      = 0\n",
    "MAX_REWARD          = 2147483647\n",
    "\n",
    "current_probability = float(df[(df['modelid'] == 3755) & (df['eval_date'] == CURRENT_DATE )][\"probability\"])\n",
    "current_target_val  = int  (df[(df['modelid'] == 3755) & (df['eval_date'] == CURRENT_DATE )][\"target_val\"])\n",
    "\n",
    "if \"_\" in TARGET_NAME:\n",
    "    if current_target_val == 0:\n",
    "        CURRENT_REWARD += math.pow(MAX_REWARD, current_probability)\n",
    "    else:\n",
    "        CURRENT_REWARD -= math.pow(MAX_REWARD, current_probability)\n",
    "else:\n",
    "    if current_target_val == 1:\n",
    "        CURRENT_REWARD += math.pow(MAX_REWARD, current_probability)\n",
    "    else:\n",
    "        CURRENT_REWARD -= math.pow(MAX_REWARD, current_probability)\n",
    "    \n",
    "\n",
    "print(CURRENT_REWARD)"
   ]
  },
  {
   "cell_type": "code",
   "execution_count": null,
   "metadata": {},
   "outputs": [],
   "source": []
  },
  {
   "cell_type": "code",
   "execution_count": 15,
   "metadata": {},
   "outputs": [
    {
     "data": {
      "text/plain": [
       "4658"
      ]
     },
     "execution_count": 15,
     "metadata": {},
     "output_type": "execute_result"
    }
   ],
   "source": [
    "MODEL_DICT[2]"
   ]
  },
  {
   "cell_type": "code",
   "execution_count": 28,
   "metadata": {},
   "outputs": [],
   "source": [
    "CURRENT_MODELS = []\n",
    "MODEL_DICT          = {} \n",
    "temp = df['modelid'].unique()\n",
    "\n",
    "for i,num in enumerate (temp):\n",
    "    MODEL_DICT [i+1]=num\n",
    "    CURRENT_MODELS.append(num)"
   ]
  },
  {
   "cell_type": "code",
   "execution_count": 29,
   "metadata": {},
   "outputs": [
    {
     "data": {
      "text/plain": [
       "[3755, 4658, 4445, 3376, 2901]"
      ]
     },
     "execution_count": 29,
     "metadata": {},
     "output_type": "execute_result"
    }
   ],
   "source": [
    "CURRENT_MODELS"
   ]
  },
  {
   "cell_type": "code",
   "execution_count": 30,
   "metadata": {},
   "outputs": [
    {
     "ename": "ValueError",
     "evalue": "list.remove(x): x not in list",
     "output_type": "error",
     "traceback": [
      "\u001b[1;31m---------------------------------------------------------------------------\u001b[0m",
      "\u001b[1;31mValueError\u001b[0m                                Traceback (most recent call last)",
      "\u001b[1;32m<ipython-input-30-e14c04330ba4>\u001b[0m in \u001b[0;36m<module>\u001b[1;34m\u001b[0m\n\u001b[1;32m----> 1\u001b[1;33m \u001b[0mCURRENT_MODELS\u001b[0m\u001b[1;33m.\u001b[0m\u001b[0mremove\u001b[0m\u001b[1;33m(\u001b[0m\u001b[1;36m1\u001b[0m\u001b[1;33m)\u001b[0m\u001b[1;33m\u001b[0m\u001b[1;33m\u001b[0m\u001b[0m\n\u001b[0m",
      "\u001b[1;31mValueError\u001b[0m: list.remove(x): x not in list"
     ]
    }
   ],
   "source": [
    "CURRENT_MODELS.remove(1)"
   ]
  },
  {
   "cell_type": "code",
   "execution_count": 45,
   "metadata": {},
   "outputs": [],
   "source": [
    "CURRENT_MODELS\n",
    "selected_model = 5"
   ]
  },
  {
   "cell_type": "code",
   "execution_count": 46,
   "metadata": {},
   "outputs": [],
   "source": [
    "if (MODEL_DICT[selected_model] in CURRENT_MODELS):  \n",
    "    CURRENT_MODELS.remove(MODEL_DICT[selected_model])"
   ]
  },
  {
   "cell_type": "code",
   "execution_count": 47,
   "metadata": {},
   "outputs": [
    {
     "data": {
      "text/plain": [
       "[4658, 3376]"
      ]
     },
     "execution_count": 47,
     "metadata": {},
     "output_type": "execute_result"
    }
   ],
   "source": [
    "CURRENT_MODELS"
   ]
  },
  {
   "cell_type": "code",
   "execution_count": null,
   "metadata": {},
   "outputs": [],
   "source": []
  }
 ],
 "metadata": {
  "kernelspec": {
   "display_name": "Python 3",
   "language": "python",
   "name": "python3"
  },
  "language_info": {
   "codemirror_mode": {
    "name": "ipython",
    "version": 3
   },
   "file_extension": ".py",
   "mimetype": "text/x-python",
   "name": "python",
   "nbconvert_exporter": "python",
   "pygments_lexer": "ipython3",
   "version": "3.7.3"
  }
 },
 "nbformat": 4,
 "nbformat_minor": 2
}
